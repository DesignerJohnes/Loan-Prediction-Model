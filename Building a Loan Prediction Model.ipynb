{
 "cells": [
  {
   "cell_type": "markdown",
   "id": "0bbaf0c7",
   "metadata": {},
   "source": [
    "# Making a Loan Prediction Model\n",
    "**Using a loan dataset from kaggle to train the model**"
   ]
  },
  {
   "cell_type": "code",
   "execution_count": 1,
   "id": "322a1cc3",
   "metadata": {},
   "outputs": [],
   "source": [
    "# Importing needed libraries\n",
    "\n",
    "import pandas as pd\n",
    "import numpy as np\n",
    "import matplotlib.pyplot as plt\n",
    "from mpl_toolkits.mplot3d import Axes3D\n",
    "from sklearn.linear_model import LinearRegression \n",
    "from sklearn.metrics import mean_squared_error\n",
    "from sklearn.preprocessing import LabelEncoder\n",
    "from sklearn.model_selection import train_test_split"
   ]
  },
  {
   "cell_type": "code",
   "execution_count": 2,
   "id": "3c93e989",
   "metadata": {},
   "outputs": [],
   "source": [
    "# importing the dataset\n",
    "loan_data = pd.read_csv('Loan_Dataset.csv')"
   ]
  },
  {
   "cell_type": "code",
   "execution_count": 3,
   "id": "f198da1b",
   "metadata": {},
   "outputs": [
    {
     "data": {
      "text/html": [
       "<div>\n",
       "<style scoped>\n",
       "    .dataframe tbody tr th:only-of-type {\n",
       "        vertical-align: middle;\n",
       "    }\n",
       "\n",
       "    .dataframe tbody tr th {\n",
       "        vertical-align: top;\n",
       "    }\n",
       "\n",
       "    .dataframe thead th {\n",
       "        text-align: right;\n",
       "    }\n",
       "</style>\n",
       "<table border=\"1\" class=\"dataframe\">\n",
       "  <thead>\n",
       "    <tr style=\"text-align: right;\">\n",
       "      <th></th>\n",
       "      <th>Loan_ID</th>\n",
       "      <th>Gender</th>\n",
       "      <th>Married</th>\n",
       "      <th>Dependents</th>\n",
       "      <th>Education</th>\n",
       "      <th>Self_Employed</th>\n",
       "      <th>ApplicantIncome</th>\n",
       "      <th>CoapplicantIncome</th>\n",
       "      <th>LoanAmount</th>\n",
       "      <th>Loan_Amount_Term</th>\n",
       "      <th>Credit_History</th>\n",
       "      <th>Property_Area</th>\n",
       "      <th>Loan_Status</th>\n",
       "    </tr>\n",
       "  </thead>\n",
       "  <tbody>\n",
       "    <tr>\n",
       "      <th>0</th>\n",
       "      <td>LP001002</td>\n",
       "      <td>Male</td>\n",
       "      <td>No</td>\n",
       "      <td>0</td>\n",
       "      <td>Graduate</td>\n",
       "      <td>No</td>\n",
       "      <td>5849</td>\n",
       "      <td>0.0</td>\n",
       "      <td>NaN</td>\n",
       "      <td>360.0</td>\n",
       "      <td>1.0</td>\n",
       "      <td>Urban</td>\n",
       "      <td>Y</td>\n",
       "    </tr>\n",
       "    <tr>\n",
       "      <th>1</th>\n",
       "      <td>LP001003</td>\n",
       "      <td>Male</td>\n",
       "      <td>Yes</td>\n",
       "      <td>1</td>\n",
       "      <td>Graduate</td>\n",
       "      <td>No</td>\n",
       "      <td>4583</td>\n",
       "      <td>1508.0</td>\n",
       "      <td>128.0</td>\n",
       "      <td>360.0</td>\n",
       "      <td>1.0</td>\n",
       "      <td>Rural</td>\n",
       "      <td>N</td>\n",
       "    </tr>\n",
       "    <tr>\n",
       "      <th>2</th>\n",
       "      <td>LP001005</td>\n",
       "      <td>Male</td>\n",
       "      <td>Yes</td>\n",
       "      <td>0</td>\n",
       "      <td>Graduate</td>\n",
       "      <td>Yes</td>\n",
       "      <td>3000</td>\n",
       "      <td>0.0</td>\n",
       "      <td>66.0</td>\n",
       "      <td>360.0</td>\n",
       "      <td>1.0</td>\n",
       "      <td>Urban</td>\n",
       "      <td>Y</td>\n",
       "    </tr>\n",
       "    <tr>\n",
       "      <th>3</th>\n",
       "      <td>LP001006</td>\n",
       "      <td>Male</td>\n",
       "      <td>Yes</td>\n",
       "      <td>0</td>\n",
       "      <td>Not Graduate</td>\n",
       "      <td>No</td>\n",
       "      <td>2583</td>\n",
       "      <td>2358.0</td>\n",
       "      <td>120.0</td>\n",
       "      <td>360.0</td>\n",
       "      <td>1.0</td>\n",
       "      <td>Urban</td>\n",
       "      <td>Y</td>\n",
       "    </tr>\n",
       "    <tr>\n",
       "      <th>4</th>\n",
       "      <td>LP001008</td>\n",
       "      <td>Male</td>\n",
       "      <td>No</td>\n",
       "      <td>0</td>\n",
       "      <td>Graduate</td>\n",
       "      <td>No</td>\n",
       "      <td>6000</td>\n",
       "      <td>0.0</td>\n",
       "      <td>141.0</td>\n",
       "      <td>360.0</td>\n",
       "      <td>1.0</td>\n",
       "      <td>Urban</td>\n",
       "      <td>Y</td>\n",
       "    </tr>\n",
       "  </tbody>\n",
       "</table>\n",
       "</div>"
      ],
      "text/plain": [
       "    Loan_ID Gender Married Dependents     Education Self_Employed  \\\n",
       "0  LP001002   Male      No          0      Graduate            No   \n",
       "1  LP001003   Male     Yes          1      Graduate            No   \n",
       "2  LP001005   Male     Yes          0      Graduate           Yes   \n",
       "3  LP001006   Male     Yes          0  Not Graduate            No   \n",
       "4  LP001008   Male      No          0      Graduate            No   \n",
       "\n",
       "   ApplicantIncome  CoapplicantIncome  LoanAmount  Loan_Amount_Term  \\\n",
       "0             5849                0.0         NaN             360.0   \n",
       "1             4583             1508.0       128.0             360.0   \n",
       "2             3000                0.0        66.0             360.0   \n",
       "3             2583             2358.0       120.0             360.0   \n",
       "4             6000                0.0       141.0             360.0   \n",
       "\n",
       "   Credit_History Property_Area Loan_Status  \n",
       "0             1.0         Urban           Y  \n",
       "1             1.0         Rural           N  \n",
       "2             1.0         Urban           Y  \n",
       "3             1.0         Urban           Y  \n",
       "4             1.0         Urban           Y  "
      ]
     },
     "execution_count": 3,
     "metadata": {},
     "output_type": "execute_result"
    }
   ],
   "source": [
    "# checking the first 5 records in the dataset\n",
    "loan_data.head()"
   ]
  },
  {
   "cell_type": "code",
   "execution_count": 4,
   "id": "11f64285",
   "metadata": {},
   "outputs": [
    {
     "data": {
      "text/html": [
       "<div>\n",
       "<style scoped>\n",
       "    .dataframe tbody tr th:only-of-type {\n",
       "        vertical-align: middle;\n",
       "    }\n",
       "\n",
       "    .dataframe tbody tr th {\n",
       "        vertical-align: top;\n",
       "    }\n",
       "\n",
       "    .dataframe thead th {\n",
       "        text-align: right;\n",
       "    }\n",
       "</style>\n",
       "<table border=\"1\" class=\"dataframe\">\n",
       "  <thead>\n",
       "    <tr style=\"text-align: right;\">\n",
       "      <th></th>\n",
       "      <th>Loan_ID</th>\n",
       "      <th>Gender</th>\n",
       "      <th>Married</th>\n",
       "      <th>Dependents</th>\n",
       "      <th>Education</th>\n",
       "      <th>Self_Employed</th>\n",
       "      <th>ApplicantIncome</th>\n",
       "      <th>CoapplicantIncome</th>\n",
       "      <th>LoanAmount</th>\n",
       "      <th>Loan_Amount_Term</th>\n",
       "      <th>Credit_History</th>\n",
       "      <th>Property_Area</th>\n",
       "      <th>Loan_Status</th>\n",
       "    </tr>\n",
       "  </thead>\n",
       "  <tbody>\n",
       "    <tr>\n",
       "      <th>609</th>\n",
       "      <td>LP002978</td>\n",
       "      <td>Female</td>\n",
       "      <td>No</td>\n",
       "      <td>0</td>\n",
       "      <td>Graduate</td>\n",
       "      <td>No</td>\n",
       "      <td>2900</td>\n",
       "      <td>0.0</td>\n",
       "      <td>71.0</td>\n",
       "      <td>360.0</td>\n",
       "      <td>1.0</td>\n",
       "      <td>Rural</td>\n",
       "      <td>Y</td>\n",
       "    </tr>\n",
       "    <tr>\n",
       "      <th>610</th>\n",
       "      <td>LP002979</td>\n",
       "      <td>Male</td>\n",
       "      <td>Yes</td>\n",
       "      <td>3+</td>\n",
       "      <td>Graduate</td>\n",
       "      <td>No</td>\n",
       "      <td>4106</td>\n",
       "      <td>0.0</td>\n",
       "      <td>40.0</td>\n",
       "      <td>180.0</td>\n",
       "      <td>1.0</td>\n",
       "      <td>Rural</td>\n",
       "      <td>Y</td>\n",
       "    </tr>\n",
       "    <tr>\n",
       "      <th>611</th>\n",
       "      <td>LP002983</td>\n",
       "      <td>Male</td>\n",
       "      <td>Yes</td>\n",
       "      <td>1</td>\n",
       "      <td>Graduate</td>\n",
       "      <td>No</td>\n",
       "      <td>8072</td>\n",
       "      <td>240.0</td>\n",
       "      <td>253.0</td>\n",
       "      <td>360.0</td>\n",
       "      <td>1.0</td>\n",
       "      <td>Urban</td>\n",
       "      <td>Y</td>\n",
       "    </tr>\n",
       "    <tr>\n",
       "      <th>612</th>\n",
       "      <td>LP002984</td>\n",
       "      <td>Male</td>\n",
       "      <td>Yes</td>\n",
       "      <td>2</td>\n",
       "      <td>Graduate</td>\n",
       "      <td>No</td>\n",
       "      <td>7583</td>\n",
       "      <td>0.0</td>\n",
       "      <td>187.0</td>\n",
       "      <td>360.0</td>\n",
       "      <td>1.0</td>\n",
       "      <td>Urban</td>\n",
       "      <td>Y</td>\n",
       "    </tr>\n",
       "    <tr>\n",
       "      <th>613</th>\n",
       "      <td>LP002990</td>\n",
       "      <td>Female</td>\n",
       "      <td>No</td>\n",
       "      <td>0</td>\n",
       "      <td>Graduate</td>\n",
       "      <td>Yes</td>\n",
       "      <td>4583</td>\n",
       "      <td>0.0</td>\n",
       "      <td>133.0</td>\n",
       "      <td>360.0</td>\n",
       "      <td>0.0</td>\n",
       "      <td>Semiurban</td>\n",
       "      <td>N</td>\n",
       "    </tr>\n",
       "  </tbody>\n",
       "</table>\n",
       "</div>"
      ],
      "text/plain": [
       "      Loan_ID  Gender Married Dependents Education Self_Employed  \\\n",
       "609  LP002978  Female      No          0  Graduate            No   \n",
       "610  LP002979    Male     Yes         3+  Graduate            No   \n",
       "611  LP002983    Male     Yes          1  Graduate            No   \n",
       "612  LP002984    Male     Yes          2  Graduate            No   \n",
       "613  LP002990  Female      No          0  Graduate           Yes   \n",
       "\n",
       "     ApplicantIncome  CoapplicantIncome  LoanAmount  Loan_Amount_Term  \\\n",
       "609             2900                0.0        71.0             360.0   \n",
       "610             4106                0.0        40.0             180.0   \n",
       "611             8072              240.0       253.0             360.0   \n",
       "612             7583                0.0       187.0             360.0   \n",
       "613             4583                0.0       133.0             360.0   \n",
       "\n",
       "     Credit_History Property_Area Loan_Status  \n",
       "609             1.0         Rural           Y  \n",
       "610             1.0         Rural           Y  \n",
       "611             1.0         Urban           Y  \n",
       "612             1.0         Urban           Y  \n",
       "613             0.0     Semiurban           N  "
      ]
     },
     "execution_count": 4,
     "metadata": {},
     "output_type": "execute_result"
    }
   ],
   "source": [
    "# checking the last 5 records in the dataset\n",
    "loan_data.tail()"
   ]
  },
  {
   "cell_type": "code",
   "execution_count": 5,
   "id": "06eefca5",
   "metadata": {},
   "outputs": [
    {
     "name": "stdout",
     "output_type": "stream",
     "text": [
      "<class 'pandas.core.frame.DataFrame'>\n",
      "RangeIndex: 614 entries, 0 to 613\n",
      "Data columns (total 13 columns):\n",
      " #   Column             Non-Null Count  Dtype  \n",
      "---  ------             --------------  -----  \n",
      " 0   Loan_ID            614 non-null    object \n",
      " 1   Gender             601 non-null    object \n",
      " 2   Married            611 non-null    object \n",
      " 3   Dependents         599 non-null    object \n",
      " 4   Education          614 non-null    object \n",
      " 5   Self_Employed      582 non-null    object \n",
      " 6   ApplicantIncome    614 non-null    int64  \n",
      " 7   CoapplicantIncome  614 non-null    float64\n",
      " 8   LoanAmount         592 non-null    float64\n",
      " 9   Loan_Amount_Term   600 non-null    float64\n",
      " 10  Credit_History     564 non-null    float64\n",
      " 11  Property_Area      614 non-null    object \n",
      " 12  Loan_Status        614 non-null    object \n",
      "dtypes: float64(4), int64(1), object(8)\n",
      "memory usage: 62.5+ KB\n"
     ]
    }
   ],
   "source": [
    "# checking for more information on the dataset\n",
    "loan_data.info()"
   ]
  },
  {
   "cell_type": "code",
   "execution_count": 6,
   "id": "0dce30f9",
   "metadata": {},
   "outputs": [
    {
     "data": {
      "text/html": [
       "<div>\n",
       "<style scoped>\n",
       "    .dataframe tbody tr th:only-of-type {\n",
       "        vertical-align: middle;\n",
       "    }\n",
       "\n",
       "    .dataframe tbody tr th {\n",
       "        vertical-align: top;\n",
       "    }\n",
       "\n",
       "    .dataframe thead th {\n",
       "        text-align: right;\n",
       "    }\n",
       "</style>\n",
       "<table border=\"1\" class=\"dataframe\">\n",
       "  <thead>\n",
       "    <tr style=\"text-align: right;\">\n",
       "      <th></th>\n",
       "      <th>ApplicantIncome</th>\n",
       "      <th>CoapplicantIncome</th>\n",
       "      <th>LoanAmount</th>\n",
       "      <th>Loan_Amount_Term</th>\n",
       "      <th>Credit_History</th>\n",
       "    </tr>\n",
       "  </thead>\n",
       "  <tbody>\n",
       "    <tr>\n",
       "      <th>count</th>\n",
       "      <td>614.000000</td>\n",
       "      <td>614.000000</td>\n",
       "      <td>592.000000</td>\n",
       "      <td>600.00000</td>\n",
       "      <td>564.000000</td>\n",
       "    </tr>\n",
       "    <tr>\n",
       "      <th>mean</th>\n",
       "      <td>5403.459283</td>\n",
       "      <td>1621.245798</td>\n",
       "      <td>146.412162</td>\n",
       "      <td>342.00000</td>\n",
       "      <td>0.842199</td>\n",
       "    </tr>\n",
       "    <tr>\n",
       "      <th>std</th>\n",
       "      <td>6109.041673</td>\n",
       "      <td>2926.248369</td>\n",
       "      <td>85.587325</td>\n",
       "      <td>65.12041</td>\n",
       "      <td>0.364878</td>\n",
       "    </tr>\n",
       "    <tr>\n",
       "      <th>min</th>\n",
       "      <td>150.000000</td>\n",
       "      <td>0.000000</td>\n",
       "      <td>9.000000</td>\n",
       "      <td>12.00000</td>\n",
       "      <td>0.000000</td>\n",
       "    </tr>\n",
       "    <tr>\n",
       "      <th>25%</th>\n",
       "      <td>2877.500000</td>\n",
       "      <td>0.000000</td>\n",
       "      <td>100.000000</td>\n",
       "      <td>360.00000</td>\n",
       "      <td>1.000000</td>\n",
       "    </tr>\n",
       "    <tr>\n",
       "      <th>50%</th>\n",
       "      <td>3812.500000</td>\n",
       "      <td>1188.500000</td>\n",
       "      <td>128.000000</td>\n",
       "      <td>360.00000</td>\n",
       "      <td>1.000000</td>\n",
       "    </tr>\n",
       "    <tr>\n",
       "      <th>75%</th>\n",
       "      <td>5795.000000</td>\n",
       "      <td>2297.250000</td>\n",
       "      <td>168.000000</td>\n",
       "      <td>360.00000</td>\n",
       "      <td>1.000000</td>\n",
       "    </tr>\n",
       "    <tr>\n",
       "      <th>max</th>\n",
       "      <td>81000.000000</td>\n",
       "      <td>41667.000000</td>\n",
       "      <td>700.000000</td>\n",
       "      <td>480.00000</td>\n",
       "      <td>1.000000</td>\n",
       "    </tr>\n",
       "  </tbody>\n",
       "</table>\n",
       "</div>"
      ],
      "text/plain": [
       "       ApplicantIncome  CoapplicantIncome  LoanAmount  Loan_Amount_Term  \\\n",
       "count       614.000000         614.000000  592.000000         600.00000   \n",
       "mean       5403.459283        1621.245798  146.412162         342.00000   \n",
       "std        6109.041673        2926.248369   85.587325          65.12041   \n",
       "min         150.000000           0.000000    9.000000          12.00000   \n",
       "25%        2877.500000           0.000000  100.000000         360.00000   \n",
       "50%        3812.500000        1188.500000  128.000000         360.00000   \n",
       "75%        5795.000000        2297.250000  168.000000         360.00000   \n",
       "max       81000.000000       41667.000000  700.000000         480.00000   \n",
       "\n",
       "       Credit_History  \n",
       "count      564.000000  \n",
       "mean         0.842199  \n",
       "std          0.364878  \n",
       "min          0.000000  \n",
       "25%          1.000000  \n",
       "50%          1.000000  \n",
       "75%          1.000000  \n",
       "max          1.000000  "
      ]
     },
     "execution_count": 6,
     "metadata": {},
     "output_type": "execute_result"
    }
   ],
   "source": [
    "# above we see that the shape is (614, 13)\n",
    "# lets get some more descriptions on the dataset\n",
    "loan_data.describe()"
   ]
  },
  {
   "cell_type": "code",
   "execution_count": 7,
   "id": "41bc561f",
   "metadata": {},
   "outputs": [
    {
     "data": {
      "text/plain": [
       "Loan_ID               0\n",
       "Gender               13\n",
       "Married               3\n",
       "Dependents           15\n",
       "Education             0\n",
       "Self_Employed        32\n",
       "ApplicantIncome       0\n",
       "CoapplicantIncome     0\n",
       "LoanAmount           22\n",
       "Loan_Amount_Term     14\n",
       "Credit_History       50\n",
       "Property_Area         0\n",
       "Loan_Status           0\n",
       "dtype: int64"
      ]
     },
     "execution_count": 7,
     "metadata": {},
     "output_type": "execute_result"
    }
   ],
   "source": [
    "# checking for rows with null values and thier total number\n",
    "loan_data.isnull().sum()"
   ]
  },
  {
   "cell_type": "code",
   "execution_count": 8,
   "id": "bf39a478",
   "metadata": {},
   "outputs": [],
   "source": [
    "# dropping all the rows with null values\n",
    "loan_data.dropna(inplace=True) # using inplace=True, makes sure the effect happens to the orginal dataset"
   ]
  },
  {
   "cell_type": "code",
   "execution_count": 9,
   "id": "152c6d57",
   "metadata": {},
   "outputs": [
    {
     "data": {
      "text/plain": [
       "Loan_ID              0\n",
       "Gender               0\n",
       "Married              0\n",
       "Dependents           0\n",
       "Education            0\n",
       "Self_Employed        0\n",
       "ApplicantIncome      0\n",
       "CoapplicantIncome    0\n",
       "LoanAmount           0\n",
       "Loan_Amount_Term     0\n",
       "Credit_History       0\n",
       "Property_Area        0\n",
       "Loan_Status          0\n",
       "dtype: int64"
      ]
     },
     "execution_count": 9,
     "metadata": {},
     "output_type": "execute_result"
    }
   ],
   "source": [
    "# Verifying the effect\n",
    "loan_data.isnull().sum()"
   ]
  },
  {
   "cell_type": "markdown",
   "id": "6821c41f",
   "metadata": {},
   "source": [
    "### Creating a List with categorical predictors"
   ]
  },
  {
   "cell_type": "code",
   "execution_count": 10,
   "id": "1479503c",
   "metadata": {},
   "outputs": [
    {
     "data": {
      "text/plain": [
       "Index(['Loan_ID', 'Gender', 'Married', 'Dependents', 'Education',\n",
       "       'Self_Employed', 'ApplicantIncome', 'CoapplicantIncome', 'LoanAmount',\n",
       "       'Loan_Amount_Term', 'Credit_History', 'Property_Area', 'Loan_Status'],\n",
       "      dtype='object')"
      ]
     },
     "execution_count": 10,
     "metadata": {},
     "output_type": "execute_result"
    }
   ],
   "source": [
    "# to see all columns\n",
    "loan_data.columns"
   ]
  },
  {
   "cell_type": "code",
   "execution_count": 11,
   "id": "5f79091b",
   "metadata": {},
   "outputs": [
    {
     "data": {
      "text/plain": [
       "Loan_ID               object\n",
       "Gender                object\n",
       "Married               object\n",
       "Dependents            object\n",
       "Education             object\n",
       "Self_Employed         object\n",
       "ApplicantIncome        int64\n",
       "CoapplicantIncome    float64\n",
       "LoanAmount           float64\n",
       "Loan_Amount_Term     float64\n",
       "Credit_History       float64\n",
       "Property_Area         object\n",
       "Loan_Status           object\n",
       "dtype: object"
      ]
     },
     "execution_count": 11,
     "metadata": {},
     "output_type": "execute_result"
    }
   ],
   "source": [
    "#checking the dataset data types\n",
    "loan_data.dtypes"
   ]
  },
  {
   "cell_type": "code",
   "execution_count": 12,
   "id": "f3818116",
   "metadata": {},
   "outputs": [],
   "source": [
    "Categorical = ['Gender', 'Married', 'Dependents', 'Education', 'Self_Employed', 'Property_Area', 'Loan_Status']\n",
    "Encode = LabelEncoder() # initiating lable encoder to use numerical datas, because machine learning works best with numbers"
   ]
  },
  {
   "cell_type": "code",
   "execution_count": 13,
   "id": "15437ebd",
   "metadata": {},
   "outputs": [],
   "source": [
    "# making a loop to transform 'Categorical' to numeric values\n",
    "for i in Categorical:\n",
    "    loan_data[i] = Encode.fit_transform(loan_data[i])"
   ]
  },
  {
   "cell_type": "code",
   "execution_count": 14,
   "id": "07ad5489",
   "metadata": {},
   "outputs": [
    {
     "data": {
      "text/plain": [
       "Loan_ID               object\n",
       "Gender                 int32\n",
       "Married                int32\n",
       "Dependents             int32\n",
       "Education              int32\n",
       "Self_Employed          int32\n",
       "ApplicantIncome        int64\n",
       "CoapplicantIncome    float64\n",
       "LoanAmount           float64\n",
       "Loan_Amount_Term     float64\n",
       "Credit_History       float64\n",
       "Property_Area          int32\n",
       "Loan_Status            int32\n",
       "dtype: object"
      ]
     },
     "execution_count": 14,
     "metadata": {},
     "output_type": "execute_result"
    }
   ],
   "source": [
    "# cross checking the datatypes\n",
    "loan_data.dtypes"
   ]
  },
  {
   "cell_type": "code",
   "execution_count": 15,
   "id": "90b87b16",
   "metadata": {},
   "outputs": [],
   "source": [
    "# Converting some columns into an array\n",
    "LoanAmount = loan_data['LoanAmount'].values\n",
    "Credit_History = loan_data['Credit_History'].values\n",
    "Loan_Status = loan_data['Loan_Status'].values"
   ]
  },
  {
   "cell_type": "markdown",
   "id": "ecf93cc9",
   "metadata": {},
   "source": [
    "## Visualization"
   ]
  },
  {
   "cell_type": "code",
   "execution_count": 16,
   "id": "7a3823ba",
   "metadata": {},
   "outputs": [
    {
     "data": {
      "text/plain": [
       "<mpl_toolkits.mplot3d.art3d.Path3DCollection at 0x1c84e12ffa0>"
      ]
     },
     "execution_count": 16,
     "metadata": {},
     "output_type": "execute_result"
    },
    {
     "data": {
      "image/png": "[encoded data removed]",
      "text/plain": [
       "<Figure size 432x288 with 1 Axes>"
      ]
     },
     "metadata": {
      "needs_background": "light"
     },
     "output_type": "display_data"
    }
   ],
   "source": [
    "# using scatter plots\n",
    "Axes3D(plt.figure()).scatter(LoanAmount, Credit_History, Loan_Status, color='r') # r color means red."
   ]
  },
  {
   "cell_type": "code",
   "execution_count": 17,
   "id": "adaad408",
   "metadata": {},
   "outputs": [
    {
     "data": {
      "text/plain": [
       "<mpl_toolkits.mplot3d.art3d.Path3DCollection at 0x1c84e8d1400>"
      ]
     },
     "execution_count": 17,
     "metadata": {},
     "output_type": "execute_result"
    },
    {
     "data": {
      "image/png": "[encoded data removed]",
      "text/plain": [
       "<Figure size 432x288 with 1 Axes>"
      ]
     },
     "metadata": {
      "needs_background": "light"
     },
     "output_type": "display_data"
    }
   ],
   "source": [
    "# or you can split the above code into 3 lines for easier understanding\n",
    "fig = plt.figure()\n",
    "axes = Axes3D(fig)\n",
    "axes.scatter(LoanAmount, Credit_History, Loan_Status)"
   ]
  },
  {
   "cell_type": "markdown",
   "id": "386b8ea1",
   "metadata": {},
   "source": [
    "### Generating parameters (theta values)"
   ]
  },
  {
   "cell_type": "code",
   "execution_count": 18,
   "id": "c2dbabe0",
   "metadata": {},
   "outputs": [],
   "source": [
    "u = len(LoanAmount)\n",
    "ones = np.ones(u)\n",
    "x = np.array([ones, LoanAmount, Credit_History]).T\n",
    "\n",
    "# Initial Coefficients\n",
    "a = np.array([0, 0, 0])\n",
    "y = np.array(Loan_Status)\n",
    "alpha = 0.0001"
   ]
  },
  {
   "cell_type": "code",
   "execution_count": 19,
   "id": "0aafe88e",
   "metadata": {},
   "outputs": [
    {
     "name": "stdout",
     "output_type": "stream",
     "text": [
      "Initial Cost is 0.3458333333333333\n"
     ]
    }
   ],
   "source": [
    "# defining the cost function\n",
    "def cost(x, y, a):\n",
    "    n = len(y)\n",
    "    z = np.sum((x.dot(a) - y) ** 2) / (2 * n)\n",
    "    return z\n",
    "initial_cost = cost(x, y, a)\n",
    "print(f'Initial Cost is {initial_cost}')"
   ]
  },
  {
   "cell_type": "markdown",
   "id": "bfd4f643",
   "metadata": {},
   "source": [
    "###  Gradient Descent"
   ]
  },
  {
   "cell_type": "code",
   "execution_count": 20,
   "id": "24e63f3b",
   "metadata": {},
   "outputs": [],
   "source": [
    "def gradient_descent(x, y, a, alpha, iterations):\n",
    "    cost_history = [0] * iterations\n",
    "    n = len(y)\n",
    "    \n",
    "    for iteration in range(iterations):\n",
    "        \n",
    "        # Hypothesis Values\n",
    "        h = x.dot(a)\n",
    "        \n",
    "        # Diff between Actual Y and Hypothesis\n",
    "        loss = h - y\n",
    "        \n",
    "        # Calculating gradient\n",
    "        gradient = x.T.dot(loss) / n\n",
    "        \n",
    "        # Changing Values of b using Gradient\n",
    "        a = a - alpha * gradient\n",
    "        \n",
    "        # New Cost\n",
    "        cost_a = cost(x, y, a)\n",
    "        cost_history[iteration] = cost_a\n",
    "        \n",
    "    return a, cost_history"
   ]
  },
  {
   "cell_type": "code",
   "execution_count": 21,
   "id": "4583073f",
   "metadata": {},
   "outputs": [
    {
     "name": "stdout",
     "output_type": "stream",
     "text": [
      "New Coefficients are [-2.35730791e+19 -4.46524650e+21 -1.99469455e+19]\n"
     ]
    }
   ],
   "source": [
    "# Iterating 100 records\n",
    "new_a, cost_history = gradient_descent(x, y, a, alpha, 100)\n",
    "print(f'New Coefficients are {new_a}')"
   ]
  },
  {
   "cell_type": "code",
   "execution_count": 22,
   "id": "f755161a",
   "metadata": {},
   "outputs": [
    {
     "name": "stdout",
     "output_type": "stream",
     "text": [
      "Final Cost is 2.733461001118079e+47\n"
     ]
    }
   ],
   "source": [
    "# final cost of new_a\n",
    "print(f'Final Cost is {cost_history[-1]}')"
   ]
  },
  {
   "cell_type": "markdown",
   "id": "f022f2aa",
   "metadata": {},
   "source": [
    "### RMSE - Model Evaluation"
   ]
  },
  {
   "cell_type": "code",
   "execution_count": 23,
   "id": "acd25463",
   "metadata": {},
   "outputs": [],
   "source": [
    "def RMSE(y, y_pred):\n",
    "    RMSE = np.sqrt(sum((y - y_pred) ** 2) / len(y))\n",
    "    return RMSE"
   ]
  },
  {
   "cell_type": "markdown",
   "id": "207c4c92",
   "metadata": {},
   "source": [
    "### R2 Score - Model Evaluation"
   ]
  },
  {
   "cell_type": "code",
   "execution_count": 24,
   "id": "7a6ba597",
   "metadata": {},
   "outputs": [
    {
     "name": "stdout",
     "output_type": "stream",
     "text": [
      "RMSE is: 7.393863673503969e+23\n",
      "R2 Score is: -2.5634541462780895e+48\n"
     ]
    }
   ],
   "source": [
    "def R2_Score(y, y_pred):\n",
    "    mean_y = np.mean(y)\n",
    "    total = sum((y - mean_y) ** 2)\n",
    "    res = sum((y - y_pred) ** 2)\n",
    "    R2 = 1 - (res / total)\n",
    "    return R2\n",
    "\n",
    "y_pred = x.dot(new_a)\n",
    "\n",
    "# outputing RMSE and R2 Score Evaluation\n",
    "print(f'RMSE is: {RMSE(y, y_pred)}')\n",
    "print(f'R2 Score is: {R2_Score(y, y_pred)}')"
   ]
  },
  {
   "cell_type": "markdown",
   "id": "46f0836b",
   "metadata": {},
   "source": [
    "### Linear Regression "
   ]
  },
  {
   "cell_type": "code",
   "execution_count": 25,
   "id": "881ccada",
   "metadata": {},
   "outputs": [],
   "source": [
    "# Assigning X and Y Values\n",
    "X = np.array([LoanAmount, Credit_History]).T\n",
    "y = np.array(Loan_Status)"
   ]
  },
  {
   "cell_type": "code",
   "execution_count": 26,
   "id": "df6ec038",
   "metadata": {},
   "outputs": [],
   "source": [
    "# Splitting Data into train and test\n",
    "X_train, X_test, y_train, y_test = train_test_split(X, y, train_size=0.69, random_state=10)"
   ]
  },
  {
   "cell_type": "code",
   "execution_count": 27,
   "id": "0ec7d8fa",
   "metadata": {},
   "outputs": [
    {
     "data": {
      "text/plain": [
       "array([[ 80.,   1.],\n",
       "       [112.,   1.],\n",
       "       [205.,   1.],\n",
       "       [500.,   1.],\n",
       "       [109.,   1.],\n",
       "       [160.,   1.],\n",
       "       [152.,   0.],\n",
       "       [123.,   1.],\n",
       "       [ 74.,   1.],\n",
       "       [ 88.,   1.],\n",
       "       [100.,   1.],\n",
       "       [154.,   1.],\n",
       "       [103.,   0.],\n",
       "       [275.,   1.],\n",
       "       [ 70.,   1.],\n",
       "       [ 46.,   1.],\n",
       "       [125.,   1.],\n",
       "       [110.,   1.],\n",
       "       [ 56.,   1.],\n",
       "       [290.,   1.],\n",
       "       [127.,   0.],\n",
       "       [120.,   1.],\n",
       "       [ 65.,   1.],\n",
       "       [115.,   1.],\n",
       "       [110.,   1.],\n",
       "       [239.,   1.],\n",
       "       [102.,   0.],\n",
       "       [ 96.,   1.],\n",
       "       [260.,   1.],\n",
       "       [165.,   1.],\n",
       "       [ 44.,   1.],\n",
       "       [236.,   1.],\n",
       "       [167.,   1.],\n",
       "       [143.,   1.],\n",
       "       [175.,   1.],\n",
       "       [106.,   1.],\n",
       "       [ 96.,   1.],\n",
       "       [ 50.,   1.],\n",
       "       [ 96.,   1.],\n",
       "       [120.,   1.],\n",
       "       [108.,   1.],\n",
       "       [300.,   1.],\n",
       "       [152.,   1.],\n",
       "       [120.,   1.],\n",
       "       [ 99.,   0.],\n",
       "       [146.,   0.],\n",
       "       [137.,   1.],\n",
       "       [ 84.,   1.],\n",
       "       [168.,   1.],\n",
       "       [ 70.,   1.],\n",
       "       [145.,   1.],\n",
       "       [113.,   1.],\n",
       "       [ 81.,   1.],\n",
       "       [176.,   1.],\n",
       "       [142.,   1.],\n",
       "       [110.,   1.],\n",
       "       [208.,   1.],\n",
       "       [151.,   1.],\n",
       "       [ 40.,   1.],\n",
       "       [180.,   1.],\n",
       "       [130.,   1.],\n",
       "       [158.,   0.],\n",
       "       [155.,   1.],\n",
       "       [144.,   1.],\n",
       "       [162.,   1.],\n",
       "       [ 80.,   1.],\n",
       "       [214.,   1.],\n",
       "       [170.,   1.],\n",
       "       [139.,   1.],\n",
       "       [188.,   1.],\n",
       "       [120.,   1.],\n",
       "       [154.,   1.],\n",
       "       [ 66.,   1.],\n",
       "       [ 93.,   0.],\n",
       "       [176.,   1.],\n",
       "       [200.,   1.],\n",
       "       [116.,   1.],\n",
       "       [128.,   1.],\n",
       "       [124.,   1.],\n",
       "       [194.,   1.],\n",
       "       [116.,   0.],\n",
       "       [155.,   1.],\n",
       "       [144.,   1.],\n",
       "       [115.,   1.],\n",
       "       [234.,   1.],\n",
       "       [ 96.,   1.],\n",
       "       [ 25.,   1.],\n",
       "       [ 60.,   1.],\n",
       "       [207.,   1.],\n",
       "       [104.,   0.],\n",
       "       [108.,   1.],\n",
       "       [135.,   1.],\n",
       "       [153.,   1.],\n",
       "       [120.,   1.],\n",
       "       [104.,   1.],\n",
       "       [200.,   1.],\n",
       "       [360.,   0.],\n",
       "       [126.,   1.],\n",
       "       [ 26.,   1.],\n",
       "       [128.,   1.],\n",
       "       [132.,   1.],\n",
       "       [320.,   1.],\n",
       "       [125.,   1.],\n",
       "       [ 89.,   1.],\n",
       "       [ 56.,   1.],\n",
       "       [128.,   1.],\n",
       "       [192.,   0.],\n",
       "       [102.,   1.],\n",
       "       [115.,   1.],\n",
       "       [187.,   1.],\n",
       "       [ 50.,   1.],\n",
       "       [132.,   0.],\n",
       "       [ 78.,   1.],\n",
       "       [188.,   1.],\n",
       "       [ 60.,   0.],\n",
       "       [  9.,   1.],\n",
       "       [175.,   1.],\n",
       "       [128.,   1.],\n",
       "       [ 83.,   1.],\n",
       "       [ 98.,   1.],\n",
       "       [187.,   1.],\n",
       "       [129.,   1.],\n",
       "       [127.,   1.],\n",
       "       [133.,   1.],\n",
       "       [170.,   1.],\n",
       "       [107.,   1.],\n",
       "       [125.,   0.],\n",
       "       [140.,   1.],\n",
       "       [ 71.,   1.],\n",
       "       [130.,   1.],\n",
       "       [158.,   1.],\n",
       "       [250.,   1.],\n",
       "       [172.,   1.],\n",
       "       [100.,   1.],\n",
       "       [ 50.,   1.],\n",
       "       [133.,   1.],\n",
       "       [ 17.,   1.],\n",
       "       [ 70.,   1.],\n",
       "       [ 63.,   0.],\n",
       "       [ 90.,   1.],\n",
       "       [216.,   0.],\n",
       "       [ 86.,   1.],\n",
       "       [ 84.,   1.],\n",
       "       [162.,   1.],\n",
       "       [ 90.,   1.],\n",
       "       [158.,   1.],\n",
       "       [130.,   1.],\n",
       "       [137.,   1.],\n",
       "       [ 55.,   1.]])"
      ]
     },
     "execution_count": 27,
     "metadata": {},
     "output_type": "execute_result"
    }
   ],
   "source": [
    "# checking the test/train\n",
    "X_test"
   ]
  },
  {
   "cell_type": "code",
   "execution_count": 28,
   "id": "24b94c58",
   "metadata": {},
   "outputs": [
    {
     "data": {
      "text/plain": [
       "array([[ 48.,   1.],\n",
       "       [100.,   1.],\n",
       "       [108.,   1.],\n",
       "       [225.,   1.],\n",
       "       [140.,   1.],\n",
       "       [110.,   1.],\n",
       "       [126.,   0.],\n",
       "       [144.,   1.],\n",
       "       [113.,   1.],\n",
       "       [111.,   1.],\n",
       "       [187.,   1.],\n",
       "       [ 90.,   1.],\n",
       "       [100.,   1.],\n",
       "       [100.,   1.],\n",
       "       [120.,   1.],\n",
       "       [185.,   1.],\n",
       "       [ 96.,   1.],\n",
       "       [151.,   1.],\n",
       "       [160.,   1.],\n",
       "       [ 25.,   1.],\n",
       "       [200.,   1.],\n",
       "       [100.,   1.],\n",
       "       [187.,   1.],\n",
       "       [121.,   1.],\n",
       "       [140.,   1.],\n",
       "       [210.,   1.],\n",
       "       [ 80.,   1.],\n",
       "       [160.,   1.],\n",
       "       [112.,   1.],\n",
       "       [ 81.,   1.],\n",
       "       [ 55.,   1.],\n",
       "       [ 30.,   1.],\n",
       "       [ 97.,   1.],\n",
       "       [185.,   1.],\n",
       "       [135.,   1.],\n",
       "       [161.,   0.],\n",
       "       [243.,   1.],\n",
       "       [ 99.,   1.],\n",
       "       [137.,   0.],\n",
       "       [168.,   1.],\n",
       "       [110.,   1.],\n",
       "       [400.,   1.],\n",
       "       [112.,   1.],\n",
       "       [156.,   1.],\n",
       "       [315.,   1.],\n",
       "       [115.,   1.],\n",
       "       [120.,   1.],\n",
       "       [187.,   1.],\n",
       "       [180.,   0.],\n",
       "       [114.,   1.],\n",
       "       [172.,   1.],\n",
       "       [225.,   1.],\n",
       "       [ 90.,   1.],\n",
       "       [600.,   1.],\n",
       "       [120.,   1.],\n",
       "       [122.,   1.],\n",
       "       [ 67.,   1.],\n",
       "       [155.,   1.],\n",
       "       [100.,   0.],\n",
       "       [240.,   1.],\n",
       "       [157.,   1.],\n",
       "       [115.,   1.],\n",
       "       [275.,   1.],\n",
       "       [201.,   0.],\n",
       "       [ 45.,   0.],\n",
       "       [ 60.,   1.],\n",
       "       [129.,   1.],\n",
       "       [136.,   1.],\n",
       "       [151.,   1.],\n",
       "       [ 81.,   1.],\n",
       "       [296.,   1.],\n",
       "       [110.,   1.],\n",
       "       [144.,   1.],\n",
       "       [116.,   1.],\n",
       "       [136.,   1.],\n",
       "       [ 71.,   1.],\n",
       "       [178.,   0.],\n",
       "       [138.,   1.],\n",
       "       [160.,   0.],\n",
       "       [150.,   1.],\n",
       "       [150.,   0.],\n",
       "       [107.,   1.],\n",
       "       [ 98.,   0.],\n",
       "       [ 84.,   1.],\n",
       "       [600.,   0.],\n",
       "       [120.,   0.],\n",
       "       [112.,   1.],\n",
       "       [113.,   1.],\n",
       "       [191.,   1.],\n",
       "       [125.,   1.],\n",
       "       [ 81.,   1.],\n",
       "       [ 94.,   1.],\n",
       "       [185.,   1.],\n",
       "       [ 80.,   0.],\n",
       "       [123.,   1.],\n",
       "       [279.,   1.],\n",
       "       [122.,   1.],\n",
       "       [ 95.,   1.],\n",
       "       [164.,   1.],\n",
       "       [ 40.,   1.],\n",
       "       [107.,   1.],\n",
       "       [104.,   1.],\n",
       "       [135.,   1.],\n",
       "       [496.,   1.],\n",
       "       [ 95.,   1.],\n",
       "       [134.,   1.],\n",
       "       [138.,   1.],\n",
       "       [113.,   0.],\n",
       "       [110.,   1.],\n",
       "       [103.,   1.],\n",
       "       [ 75.,   1.],\n",
       "       [165.,   0.],\n",
       "       [113.,   1.],\n",
       "       [148.,   1.],\n",
       "       [180.,   1.],\n",
       "       [187.,   1.],\n",
       "       [115.,   1.],\n",
       "       [130.,   1.],\n",
       "       [258.,   0.],\n",
       "       [131.,   1.],\n",
       "       [244.,   1.],\n",
       "       [228.,   1.],\n",
       "       [130.,   1.],\n",
       "       [128.,   1.],\n",
       "       [100.,   1.],\n",
       "       [136.,   0.],\n",
       "       [110.,   1.],\n",
       "       [113.,   1.],\n",
       "       [150.,   1.],\n",
       "       [225.,   1.],\n",
       "       [141.,   1.],\n",
       "       [155.,   1.],\n",
       "       [103.,   0.],\n",
       "       [324.,   1.],\n",
       "       [140.,   1.],\n",
       "       [136.,   1.],\n",
       "       [144.,   1.],\n",
       "       [182.,   1.],\n",
       "       [ 59.,   1.],\n",
       "       [173.,   1.],\n",
       "       [ 95.,   1.],\n",
       "       [123.,   0.],\n",
       "       [138.,   1.],\n",
       "       [ 67.,   1.],\n",
       "       [495.,   0.],\n",
       "       [152.,   1.],\n",
       "       [211.,   1.],\n",
       "       [138.,   1.],\n",
       "       [280.,   1.],\n",
       "       [ 70.,   1.],\n",
       "       [117.,   1.],\n",
       "       [134.,   1.],\n",
       "       [ 95.,   1.],\n",
       "       [173.,   1.],\n",
       "       [133.,   0.],\n",
       "       [242.,   0.],\n",
       "       [112.,   1.],\n",
       "       [184.,   1.],\n",
       "       [150.,   1.],\n",
       "       [185.,   1.],\n",
       "       [100.,   1.],\n",
       "       [275.,   1.],\n",
       "       [ 66.,   1.],\n",
       "       [120.,   1.],\n",
       "       [187.,   1.],\n",
       "       [108.,   1.],\n",
       "       [ 80.,   1.],\n",
       "       [130.,   0.],\n",
       "       [136.,   1.],\n",
       "       [101.,   1.],\n",
       "       [113.,   1.],\n",
       "       [128.,   1.],\n",
       "       [137.,   1.],\n",
       "       [192.,   1.],\n",
       "       [187.,   1.],\n",
       "       [ 54.,   1.],\n",
       "       [131.,   1.],\n",
       "       [ 87.,   1.],\n",
       "       [160.,   1.],\n",
       "       [118.,   0.],\n",
       "       [246.,   1.],\n",
       "       [ 99.,   1.],\n",
       "       [110.,   1.],\n",
       "       [100.,   1.],\n",
       "       [110.,   1.],\n",
       "       [100.,   1.],\n",
       "       [160.,   0.],\n",
       "       [136.,   1.],\n",
       "       [110.,   1.],\n",
       "       [ 74.,   1.],\n",
       "       [ 35.,   1.],\n",
       "       [376.,   0.],\n",
       "       [480.,   1.],\n",
       "       [260.,   1.],\n",
       "       [120.,   1.],\n",
       "       [172.,   1.],\n",
       "       [120.,   1.],\n",
       "       [150.,   1.],\n",
       "       [132.,   1.],\n",
       "       [119.,   0.],\n",
       "       [259.,   1.],\n",
       "       [286.,   0.],\n",
       "       [172.,   1.],\n",
       "       [150.,   1.],\n",
       "       [173.,   1.],\n",
       "       [209.,   0.],\n",
       "       [312.,   1.],\n",
       "       [200.,   1.],\n",
       "       [105.,   0.],\n",
       "       [186.,   1.],\n",
       "       [160.,   1.],\n",
       "       [258.,   1.],\n",
       "       [ 76.,   0.],\n",
       "       [105.,   1.],\n",
       "       [105.,   0.],\n",
       "       [100.,   1.],\n",
       "       [ 95.,   1.],\n",
       "       [175.,   1.],\n",
       "       [141.,   1.],\n",
       "       [ 74.,   1.],\n",
       "       [112.,   1.],\n",
       "       [128.,   0.],\n",
       "       [115.,   0.],\n",
       "       [180.,   1.],\n",
       "       [ 70.,   1.],\n",
       "       [ 90.,   0.],\n",
       "       [135.,   1.],\n",
       "       [260.,   1.],\n",
       "       [113.,   1.],\n",
       "       [ 97.,   1.],\n",
       "       [134.,   1.],\n",
       "       [148.,   1.],\n",
       "       [131.,   1.],\n",
       "       [120.,   1.],\n",
       "       [ 36.,   1.],\n",
       "       [436.,   1.],\n",
       "       [126.,   1.],\n",
       "       [ 30.,   1.],\n",
       "       [114.,   1.],\n",
       "       [ 76.,   1.],\n",
       "       [200.,   1.],\n",
       "       [ 94.,   1.],\n",
       "       [111.,   1.],\n",
       "       [ 87.,   1.],\n",
       "       [108.,   1.],\n",
       "       [311.,   1.],\n",
       "       [308.,   1.],\n",
       "       [128.,   1.],\n",
       "       [111.,   0.],\n",
       "       [170.,   1.],\n",
       "       [ 70.,   0.],\n",
       "       [ 71.,   0.],\n",
       "       [150.,   1.],\n",
       "       [100.,   1.],\n",
       "       [110.,   0.],\n",
       "       [267.,   1.],\n",
       "       [187.,   1.],\n",
       "       [135.,   1.],\n",
       "       [149.,   0.],\n",
       "       [155.,   1.],\n",
       "       [380.,   1.],\n",
       "       [ 96.,   1.],\n",
       "       [304.,   1.],\n",
       "       [116.,   1.],\n",
       "       [ 66.,   0.],\n",
       "       [128.,   1.],\n",
       "       [104.,   1.],\n",
       "       [131.,   1.],\n",
       "       [113.,   1.],\n",
       "       [181.,   0.],\n",
       "       [253.,   1.],\n",
       "       [124.,   1.],\n",
       "       [ 90.,   1.],\n",
       "       [122.,   1.],\n",
       "       [157.,   1.],\n",
       "       [106.,   0.],\n",
       "       [111.,   1.],\n",
       "       [194.,   1.],\n",
       "       [ 55.,   1.],\n",
       "       [ 45.,   1.],\n",
       "       [187.,   1.],\n",
       "       [ 81.,   1.],\n",
       "       [116.,   0.],\n",
       "       [133.,   1.],\n",
       "       [130.,   1.],\n",
       "       [ 53.,   1.],\n",
       "       [ 47.,   1.],\n",
       "       [218.,   0.],\n",
       "       [180.,   0.],\n",
       "       [175.,   1.],\n",
       "       [124.,   1.],\n",
       "       [570.,   1.],\n",
       "       [187.,   0.],\n",
       "       [130.,   1.],\n",
       "       [ 73.,   1.],\n",
       "       [ 75.,   1.],\n",
       "       [480.,   1.],\n",
       "       [104.,   0.],\n",
       "       [125.,   1.],\n",
       "       [ 50.,   1.],\n",
       "       [ 70.,   1.],\n",
       "       [104.,   1.],\n",
       "       [210.,   1.],\n",
       "       [205.,   1.],\n",
       "       [255.,   1.],\n",
       "       [ 44.,   1.],\n",
       "       [110.,   1.],\n",
       "       [255.,   1.],\n",
       "       [140.,   1.],\n",
       "       [187.,   1.],\n",
       "       [125.,   1.],\n",
       "       [188.,   1.],\n",
       "       [132.,   1.],\n",
       "       [118.,   1.],\n",
       "       [104.,   0.],\n",
       "       [230.,   1.],\n",
       "       [ 66.,   1.],\n",
       "       [134.,   1.],\n",
       "       [184.,   1.],\n",
       "       [ 81.,   1.],\n",
       "       [349.,   1.],\n",
       "       [ 71.,   1.],\n",
       "       [ 94.,   1.],\n",
       "       [158.,   0.],\n",
       "       [166.,   0.],\n",
       "       [ 98.,   1.],\n",
       "       [162.,   1.],\n",
       "       [ 62.,   1.],\n",
       "       [133.,   1.],\n",
       "       [121.,   0.],\n",
       "       [158.,   1.]])"
      ]
     },
     "execution_count": 28,
     "metadata": {},
     "output_type": "execute_result"
    }
   ],
   "source": [
    "X_train"
   ]
  },
  {
   "cell_type": "code",
   "execution_count": 29,
   "id": "133aa6ed",
   "metadata": {},
   "outputs": [
    {
     "data": {
      "text/plain": [
       "LinearRegression()"
      ]
     },
     "execution_count": 29,
     "metadata": {},
     "output_type": "execute_result"
    }
   ],
   "source": [
    "# no need to check for y because its similar\n",
    "\n",
    "# Initializing Model\n",
    "regree = LinearRegression()\n",
    "\n",
    "# Fitting X and y\n",
    "regree.fit(X_train, y_train)"
   ]
  },
  {
   "cell_type": "code",
   "execution_count": 30,
   "id": "594ad0bc",
   "metadata": {},
   "outputs": [
    {
     "data": {
      "text/plain": [
       "0.15598631375217675"
      ]
     },
     "execution_count": 30,
     "metadata": {},
     "output_type": "execute_result"
    }
   ],
   "source": [
    "# checking intercept\n",
    "regree.intercept_"
   ]
  },
  {
   "cell_type": "code",
   "execution_count": 31,
   "id": "964a7830",
   "metadata": {},
   "outputs": [
    {
     "data": {
      "text/plain": [
       "array([-1.51969616e-04,  6.57916921e-01])"
      ]
     },
     "execution_count": 31,
     "metadata": {},
     "output_type": "execute_result"
    }
   ],
   "source": [
    "# checking coefficient \n",
    "regree.coef_"
   ]
  },
  {
   "cell_type": "code",
   "execution_count": 32,
   "id": "9bc7fc9b",
   "metadata": {},
   "outputs": [
    {
     "data": {
      "text/plain": [
       "array([0.80174567, 0.79688264, 0.78274946, 0.73791843, 0.79733855,\n",
       "       0.7895881 , 0.13288693, 0.79521097, 0.80265748, 0.80052991,\n",
       "       0.79870627, 0.79049991, 0.14033344, 0.77211159, 0.80326536,\n",
       "       0.80691263, 0.79490703, 0.79718658, 0.80539294, 0.76983205,\n",
       "       0.13668617, 0.79566688, 0.80402521, 0.79642673, 0.79718658,\n",
       "       0.7775825 , 0.14048541, 0.79931415, 0.77439114, 0.78882825,\n",
       "       0.80721657, 0.77803841, 0.78852431, 0.79217158, 0.78730855,\n",
       "       0.79779446, 0.79931415, 0.80630475, 0.79931415, 0.79566688,\n",
       "       0.79749052, 0.76831235, 0.79080385, 0.79566688, 0.14094132,\n",
       "       0.13379875, 0.7930834 , 0.80113779, 0.78837234, 0.80326536,\n",
       "       0.79186764, 0.79673067, 0.8015937 , 0.78715658, 0.79232355,\n",
       "       0.79718658, 0.78229356, 0.79095582, 0.80782445, 0.7865487 ,\n",
       "       0.79414719, 0.13197511, 0.79034794, 0.79201961, 0.78928416,\n",
       "       0.80174567, 0.78138174, 0.7880684 , 0.79277946, 0.78533295,\n",
       "       0.79566688, 0.79049991, 0.80387324, 0.14185314, 0.78715658,\n",
       "       0.78350931, 0.79627476, 0.79445112, 0.795059  , 0.78442113,\n",
       "       0.13835784, 0.79034794, 0.79201961, 0.79642673, 0.77834235,\n",
       "       0.79931415, 0.81010399, 0.80478506, 0.78244552, 0.14018147,\n",
       "       0.79749052, 0.79338734, 0.79065188, 0.79566688, 0.7980984 ,\n",
       "       0.78350931, 0.10127725, 0.79475506, 0.80995203, 0.79445112,\n",
       "       0.79384325, 0.76527296, 0.79490703, 0.80037794, 0.80539294,\n",
       "       0.79445112, 0.12680815, 0.79840233, 0.79642673, 0.78548492,\n",
       "       0.80630475, 0.13592632, 0.80204961, 0.78533295, 0.14686814,\n",
       "       0.81253551, 0.78730855, 0.79445112, 0.80128976, 0.79901021,\n",
       "       0.78548492, 0.79429915, 0.79460309, 0.79369128, 0.7880684 ,\n",
       "       0.79764249, 0.13699011, 0.79262749, 0.80311339, 0.79414719,\n",
       "       0.78989204, 0.77591083, 0.78776446, 0.79870627, 0.80630475,\n",
       "       0.79369128, 0.81131975, 0.80326536, 0.14641223, 0.80022597,\n",
       "       0.12316088, 0.80083385, 0.80113779, 0.78928416, 0.80022597,\n",
       "       0.78989204, 0.79414719, 0.7930834 , 0.80554491])"
      ]
     },
     "execution_count": 32,
     "metadata": {},
     "output_type": "execute_result"
    }
   ],
   "source": [
    "# predicting the X_test\n",
    "pred = regree.predict(X_test)\n",
    "pred"
   ]
  },
  {
   "cell_type": "markdown",
   "id": "578890dc",
   "metadata": {},
   "source": [
    "### Evaluating the Model"
   ]
  },
  {
   "cell_type": "code",
   "execution_count": 33,
   "id": "1fb80740",
   "metadata": {},
   "outputs": [
    {
     "data": {
      "text/plain": [
       "0.3810475345197588"
      ]
     },
     "execution_count": 33,
     "metadata": {},
     "output_type": "execute_result"
    }
   ],
   "source": [
    "# checking mean squared error\n",
    "np.sqrt(mean_squared_error(y_test, pred))"
   ]
  },
  {
   "cell_type": "code",
   "execution_count": 34,
   "id": "0efc01bc",
   "metadata": {},
   "outputs": [
    {
     "data": {
      "text/plain": [
       "0.3022676276330759"
      ]
     },
     "execution_count": 34,
     "metadata": {},
     "output_type": "execute_result"
    }
   ],
   "source": [
    "# checking the accuracy of the model\n",
    "regree.score(X_test, y_test)"
   ]
  }
 ],
 "metadata": {
  "kernelspec": {
   "display_name": "Python 3",
   "language": "python",
   "name": "python3"
  },
  "language_info": {
   "codemirror_mode": {
    "name": "ipython",
    "version": 3
   },
   "file_extension": ".py",
   "mimetype": "text/x-python",
   "name": "python",
   "nbconvert_exporter": "python",
   "pygments_lexer": "ipython3",
   "version": "3.8.8"
  }
 },
 "nbformat": 4,
 "nbformat_minor": 5
}
